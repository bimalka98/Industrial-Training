{
 "cells": [
  {
   "cell_type": "code",
   "execution_count": 1,
   "metadata": {},
   "outputs": [
    {
     "name": "stdout",
     "output_type": "stream",
     "text": [
      "51\n"
     ]
    }
   ],
   "source": [
    "import sys, fitz\n",
    "\n",
    "file = 'ITD.pdf'\n",
    "try:\n",
    "    doc = fitz.open(file) \n",
    "except Exception as e:\n",
    "    print(e)\n",
    "page_count  = doc.pageCount\n",
    "print(page_count)"
   ]
  },
  {
   "cell_type": "code",
   "execution_count": 14,
   "metadata": {},
   "outputs": [],
   "source": [
    "doc2 = fitz.open()\n",
    "doc2.insertPDF(doc, from_page =30 , to_page = 30, start_at = 0)\n",
    "doc2.save(\"Annex K-3.pdf\")"
   ]
  }
 ],
 "metadata": {
  "interpreter": {
   "hash": "df759ce0835dde3092fbbd3a6e2b99f70c3ce6ad821d4525fdaa8034058d2895"
  },
  "kernelspec": {
   "display_name": "Python 3.9.5 64-bit (system)",
   "language": "python",
   "name": "python3"
  },
  "language_info": {
   "codemirror_mode": {
    "name": "ipython",
    "version": 3
   },
   "file_extension": ".py",
   "mimetype": "text/x-python",
   "name": "python",
   "nbconvert_exporter": "python",
   "pygments_lexer": "ipython3",
   "version": "3.9.5"
  },
  "orig_nbformat": 4
 },
 "nbformat": 4,
 "nbformat_minor": 2
}
