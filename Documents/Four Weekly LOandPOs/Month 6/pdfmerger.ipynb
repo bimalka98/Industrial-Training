{
 "cells": [
  {
   "cell_type": "code",
   "execution_count": null,
   "id": "7b594aeb-4ddb-4c9e-9647-48996c0e2d9e",
   "metadata": {},
   "outputs": [],
   "source": [
    "# # image pre porcessing\n",
    "\n",
    "# import os\n",
    "# import cv2 as cv\n",
    "# import matplotlib.pyplot as plt\n",
    "# ksize = 3\n",
    "\n",
    "# imgdir = \"images/\"  # where the pics are\n",
    "# imglist = os.listdir(imgdir)  # list of them\n",
    "# print(imglist)\n",
    "# output = 'output/'\n",
    "\n",
    "# x,y = 0,0\n",
    "# h,w = 3200, 2400\n",
    "# i = 100\n",
    "# for image in imglist:\n",
    "#     img = cv.imread(imgdir + image, cv.IMREAD_GRAYSCALE)    \n",
    "#     # print(img.shape)\n",
    "#     img = cv.adaptiveThreshold(img, 255, cv.ADAPTIVE_THRESH_GAUSSIAN_C, cv.THRESH_BINARY, 401, 17)\n",
    "#     kernel = cv.getStructuringElement(cv.MORPH_RECT,(ksize,ksize))\n",
    "# #     img = cv.dilate(img, kernel)\n",
    "#     img = cv.medianBlur(img, 5) \n",
    "#     cv.imwrite(output+\"img\"+str(i)+\".jpg\",img)\n",
    "#     i += 1"
   ]
  },
  {
   "cell_type": "code",
   "execution_count": 5,
   "id": "b7fabee7-d820-4f08-aa0b-646070ae605d",
   "metadata": {},
   "outputs": [
    {
     "name": "stdout",
     "output_type": "stream",
     "text": [
      "['20220718_100035.jpg', '20220718_100113.jpg', '20220718_100153.jpg']\n"
     ]
    }
   ],
   "source": [
    "# image binding to make the pdf\n",
    "import os, fitz\n",
    "\n",
    "imgdir = \"EO\"  # where the pics are\n",
    "imglist = os.listdir(imgdir)  # list of them\n",
    "print(imglist)\n",
    "imgcount = len(imglist)  # pic count\n",
    "\n",
    "doc = fitz.open()  # PDF with the pictures\n",
    "for i, f in enumerate(sorted(imglist)):\n",
    "    img = fitz.open(os.path.join(imgdir, f))  # open pic as document\n",
    "    rect = img[0].rect  # pic dimension\n",
    "    pdfbytes = img.convert_to_pdf()  # make a PDF stream\n",
    "    img.close()  # no longer needed\n",
    "    imgPDF = fitz.open(\"pdf\", pdfbytes)  # open stream as PDF\n",
    "    page = doc.new_page(width = rect.width,  # new page with ...\n",
    "                       height = rect.height)  # pic dimension\n",
    "    \n",
    "    page.show_pdf_page(rect, imgPDF, 0)  # image fills the page\n",
    "    # if i==1 or i==0:\n",
    "    # page.setRotation(90)\n",
    "\n",
    "# doc.save(\"180631J_EN3992_W5-8_CA.pdf\")\n",
    "doc.save(\"180631J_EN3992_W21-24_EO.pdf\")\n"
   ]
  }
 ],
 "metadata": {
  "interpreter": {
   "hash": "e74844638f94d533e5ff97c7c9ab70f615b220ea18c63021e54e9296284d1a7a"
  },
  "kernelspec": {
   "display_name": "Python 3.9.5 64-bit (system)",
   "language": "python",
   "name": "python3"
  },
  "language_info": {
   "codemirror_mode": {
    "name": "ipython",
    "version": 3
   },
   "file_extension": ".py",
   "mimetype": "text/x-python",
   "name": "python",
   "nbconvert_exporter": "python",
   "pygments_lexer": "ipython3",
   "version": "3.9.5"
  }
 },
 "nbformat": 4,
 "nbformat_minor": 5
}
