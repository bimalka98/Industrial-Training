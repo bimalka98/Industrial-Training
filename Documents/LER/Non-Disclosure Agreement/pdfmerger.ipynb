{
 "cells": [
  {
   "cell_type": "code",
   "execution_count": 2,
   "id": "7b594aeb-4ddb-4c9e-9647-48996c0e2d9e",
   "metadata": {},
   "outputs": [
    {
     "ename": "ModuleNotFoundError",
     "evalue": "No module named 'cv2'",
     "output_type": "error",
     "traceback": [
      "\u001b[1;31m---------------------------------------------------------------------------\u001b[0m",
      "\u001b[1;31mModuleNotFoundError\u001b[0m                       Traceback (most recent call last)",
      "\u001b[1;32m~\\AppData\\Local\\Temp/ipykernel_11340/958150153.py\u001b[0m in \u001b[0;36m<module>\u001b[1;34m\u001b[0m\n\u001b[0;32m      2\u001b[0m \u001b[1;33m\u001b[0m\u001b[0m\n\u001b[0;32m      3\u001b[0m \u001b[1;32mimport\u001b[0m \u001b[0mos\u001b[0m\u001b[1;33m\u001b[0m\u001b[1;33m\u001b[0m\u001b[0m\n\u001b[1;32m----> 4\u001b[1;33m \u001b[1;32mimport\u001b[0m \u001b[0mcv2\u001b[0m \u001b[1;32mas\u001b[0m \u001b[0mcv\u001b[0m\u001b[1;33m\u001b[0m\u001b[1;33m\u001b[0m\u001b[0m\n\u001b[0m\u001b[0;32m      5\u001b[0m \u001b[1;32mimport\u001b[0m \u001b[0mmatplotlib\u001b[0m\u001b[1;33m.\u001b[0m\u001b[0mpyplot\u001b[0m \u001b[1;32mas\u001b[0m \u001b[0mplt\u001b[0m\u001b[1;33m\u001b[0m\u001b[1;33m\u001b[0m\u001b[0m\n\u001b[0;32m      6\u001b[0m \u001b[0mksize\u001b[0m \u001b[1;33m=\u001b[0m \u001b[1;36m3\u001b[0m\u001b[1;33m\u001b[0m\u001b[1;33m\u001b[0m\u001b[0m\n",
      "\u001b[1;31mModuleNotFoundError\u001b[0m: No module named 'cv2'"
     ]
    }
   ],
   "source": [
    "# image pre porcessing\n",
    "\n",
    "import os\n",
    "import cv2 as cv\n",
    "import matplotlib.pyplot as plt\n",
    "ksize = 3\n",
    "\n",
    "imgdir = \"images/\"  # where the pics are\n",
    "imglist = os.listdir(imgdir)  # list of them\n",
    "print(imglist)\n",
    "output = 'output/'\n",
    "\n",
    "x,y = 0,0\n",
    "h,w = 3200, 2400\n",
    "i = 100\n",
    "for image in imglist:\n",
    "    img = cv.imread(imgdir + image, cv.IMREAD_GRAYSCALE)    \n",
    "    # print(img.shape)\n",
    "    img = cv.adaptiveThreshold(img, 255, cv.ADAPTIVE_THRESH_GAUSSIAN_C, cv.THRESH_BINARY, 401, 17)\n",
    "    kernel = cv.getStructuringElement(cv.MORPH_RECT,(ksize,ksize))\n",
    "#     img = cv.dilate(img, kernel)\n",
    "    img = cv.medianBlur(img, 5) \n",
    "    cv.imwrite(output+\"img\"+str(i)+\".jpg\",img)\n",
    "    i += 1"
   ]
  },
  {
   "cell_type": "code",
   "execution_count": 1,
   "id": "b7fabee7-d820-4f08-aa0b-646070ae605d",
   "metadata": {},
   "outputs": [
    {
     "name": "stdout",
     "output_type": "stream",
     "text": [
      "['IMG_20220110_080042.jpg', 'IMG_20220110_080055.jpg', 'IMG_20220110_080109.jpg', 'IMG_20220110_080119.jpg', 'IMG_20220110_080128.jpg', 'IMG_20220110_080139.jpg']\n"
     ]
    }
   ],
   "source": [
    "# image binding to make the pdf\n",
    "import os, fitz\n",
    "\n",
    "imgdir = \"images\"  # where the pics are\n",
    "imglist = os.listdir(imgdir)  # list of them\n",
    "print(imglist)\n",
    "imgcount = len(imglist)  # pic count\n",
    "\n",
    "doc = fitz.open()  # PDF with the pictures\n",
    "for i, f in enumerate(sorted(imglist)):\n",
    "    img = fitz.open(os.path.join(imgdir, f))  # open pic as document\n",
    "    rect = img[0].rect  # pic dimension\n",
    "    pdfbytes = img.convert_to_pdf()  # make a PDF stream\n",
    "    img.close()  # no longer needed\n",
    "    imgPDF = fitz.open(\"pdf\", pdfbytes)  # open stream as PDF\n",
    "    page = doc.new_page(width = rect.width,  # new page with ...\n",
    "                       height = rect.height)  # pic dimension\n",
    "    \n",
    "    page.show_pdf_page(rect, imgPDF, 0)  # image fills the page\n",
    "    # page.setRotation(90)\n",
    "\n",
    "# doc.save(\"180631J_EN3143_MPA1.pdf\")\n",
    "doc.save(\"Non-Disclosure Agreement.pdf\")"
   ]
  },
  {
   "cell_type": "code",
   "execution_count": 5,
   "id": "970e0ee0-3fc9-4708-a4fd-f346bfea1f92",
   "metadata": {},
   "outputs": [
    {
     "name": "stdout",
     "output_type": "stream",
     "text": [
      "\\begin{figure}[!h]\n",
      "\\centering\n",
      "\\includegraphics[scale=0.22]{figures/img0}\n",
      "\\end{figure}\n",
      "\\begin{figure}[!h]\n",
      "\\centering\n",
      "\\includegraphics[scale=0.22]{figures/img1}\n",
      "\\end{figure}\n",
      "\\begin{figure}[!h]\n",
      "\\centering\n",
      "\\includegraphics[scale=0.22]{figures/img2}\n",
      "\\end{figure}\n",
      "\\begin{figure}[!h]\n",
      "\\centering\n",
      "\\includegraphics[scale=0.22]{figures/img3}\n",
      "\\end{figure}\n",
      "\\begin{figure}[!h]\n",
      "\\centering\n",
      "\\includegraphics[scale=0.22]{figures/img4}\n",
      "\\end{figure}\n",
      "\\begin{figure}[!h]\n",
      "\\centering\n",
      "\\includegraphics[scale=0.22]{figures/img5}\n",
      "\\end{figure}\n",
      "\\begin{figure}[!h]\n",
      "\\centering\n",
      "\\includegraphics[scale=0.22]{figures/img6}\n",
      "\\end{figure}\n",
      "\\begin{figure}[!h]\n",
      "\\centering\n",
      "\\includegraphics[scale=0.22]{figures/img7}\n",
      "\\end{figure}\n",
      "\\begin{figure}[!h]\n",
      "\\centering\n",
      "\\includegraphics[scale=0.22]{figures/img8}\n",
      "\\end{figure}\n",
      "\\begin{figure}[!h]\n",
      "\\centering\n",
      "\\includegraphics[scale=0.22]{figures/img9}\n",
      "\\end{figure}\n",
      "\\begin{figure}[!h]\n",
      "\\centering\n",
      "\\includegraphics[scale=0.22]{figures/img10}\n",
      "\\end{figure}\n",
      "\\begin{figure}[!h]\n",
      "\\centering\n",
      "\\includegraphics[scale=0.22]{figures/img11}\n",
      "\\end{figure}\n",
      "\\begin{figure}[!h]\n",
      "\\centering\n",
      "\\includegraphics[scale=0.22]{figures/img12}\n",
      "\\end{figure}\n",
      "\\begin{figure}[!h]\n",
      "\\centering\n",
      "\\includegraphics[scale=0.22]{figures/img13}\n",
      "\\end{figure}\n",
      "\\begin{figure}[!h]\n",
      "\\centering\n",
      "\\includegraphics[scale=0.22]{figures/img14}\n",
      "\\end{figure}\n",
      "\\begin{figure}[!h]\n",
      "\\centering\n",
      "\\includegraphics[scale=0.22]{figures/img15}\n",
      "\\end{figure}\n",
      "\\begin{figure}[!h]\n",
      "\\centering\n",
      "\\includegraphics[scale=0.22]{figures/img16}\n",
      "\\end{figure}\n",
      "\\begin{figure}[!h]\n",
      "\\centering\n",
      "\\includegraphics[scale=0.22]{figures/img17}\n",
      "\\end{figure}\n",
      "\\begin{figure}[!h]\n",
      "\\centering\n",
      "\\includegraphics[scale=0.22]{figures/img18}\n",
      "\\end{figure}\n",
      "\\begin{figure}[!h]\n",
      "\\centering\n",
      "\\includegraphics[scale=0.22]{figures/img19}\n",
      "\\end{figure}\n",
      "\\begin{figure}[!h]\n",
      "\\centering\n",
      "\\includegraphics[scale=0.22]{figures/img20}\n",
      "\\end{figure}\n"
     ]
    }
   ],
   "source": [
    "for i in range(len(imglist)):\n",
    "    print(\"\\\\begin{figure}[!h]\")\n",
    "    print(\"\\\\centering\")\n",
    "    print(\"\\\\includegraphics[scale=0.22]{figures/img\"+str(i)+\"}\")\n",
    "    print(\"\\\\end{figure}\")"
   ]
  }
 ],
 "metadata": {
  "interpreter": {
   "hash": "df759ce0835dde3092fbbd3a6e2b99f70c3ce6ad821d4525fdaa8034058d2895"
  },
  "kernelspec": {
   "display_name": "Python 3.9.5 64-bit (system)",
   "name": "python3"
  },
  "language_info": {
   "codemirror_mode": {
    "name": "ipython",
    "version": 3
   },
   "file_extension": ".py",
   "mimetype": "text/x-python",
   "name": "python",
   "nbconvert_exporter": "python",
   "pygments_lexer": "ipython3",
   "version": "3.9.5"
  }
 },
 "nbformat": 4,
 "nbformat_minor": 5
}
